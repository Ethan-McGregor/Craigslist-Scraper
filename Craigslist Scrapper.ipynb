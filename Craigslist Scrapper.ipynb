{
 "cells": [
  {
   "cell_type": "code",
   "execution_count": 1,
   "metadata": {
    "collapsed": true
   },
   "outputs": [],
   "source": [
    "#beautiful soup\n",
    "from bs4 import BeautifulSoup\n",
    "import urllib2\n",
    "import pandas as pd"
   ]
  },
  {
   "cell_type": "code",
   "execution_count": 2,
   "metadata": {
    "collapsed": false
   },
   "outputs": [
    {
     "name": "stderr",
     "output_type": "stream",
     "text": [
      "C:\\Users\\ermmc\\Anaconda2\\lib\\site-packages\\bs4\\__init__.py:166: UserWarning: No parser was explicitly specified, so I'm using the best available HTML parser for this system (\"lxml\"). This usually isn't a problem, but if you run this code on another system, or in a different virtual environment, it may use a different parser and behave differently.\n",
      "\n",
      "To get rid of this warning, change this:\n",
      "\n",
      " BeautifulSoup([your markup])\n",
      "\n",
      "to this:\n",
      "\n",
      " BeautifulSoup([your markup], \"lxml\")\n",
      "\n",
      "  markup_type=markup_type))\n"
     ]
    }
   ],
   "source": [
    "#function for reading the Web page\n",
    "def readPage(passedURL):\n",
    "    \n",
    "    #storing http\n",
    "    url = passedURL\n",
    "\n",
    "    #opening webpage\n",
    "    page = urllib2.urlopen(url)\n",
    "\n",
    "    #Beautiful soup reading webpage\n",
    "    soup = BeautifulSoup(page.read())\n",
    "    \n",
    "    #returns soup\n",
    "    return soup\n",
    "\n",
    "#read page   \n",
    "soup = readPage(\"http://seattle.craigslist.org/search/zip\")"
   ]
  },
  {
   "cell_type": "code",
   "execution_count": 3,
   "metadata": {
    "collapsed": false
   },
   "outputs": [],
   "source": [
    "#storing names of professor's links\n",
    "link = soup.findAll(id='titletextonly')\n",
    "row  = soup.findAll(\"a\", class_=\"hdrlnk\")\n",
    "#running through th elinks and pulling bio\n",
    "\n",
    "table = pd.DataFrame()\n",
    "linkn = []\n",
    "title = []\n",
    "info = []\n",
    "loc = []\n",
    "maps = []\n",
    "dates = ''\n",
    "date = []\n",
    "time = []\n",
    "phone = []\n",
    "\n",
    "for i in row:\n",
    "\n",
    "    title.append(i.get_text())\n",
    "    linkn.append(\"http://seattle.craigslist.org\" + i['href'])\n",
    "    soup2 = readPage(\"http://seattle.craigslist.org\" + i['href'])\n",
    "    \n",
    "    d = soup2.find(id='postingbody')\n",
    "    \n",
    "    location = soup2.find('small')\n",
    "    mapss = soup2.find('p',class_='mapaddress')\n",
    "    if mapss != None:\n",
    "        maps.append(mapss.find('a')['href'])\n",
    "    else:\n",
    "        maps.append('NULL')\n",
    "    if(location != None):\n",
    "        loc.append(location.get_text())\n",
    "    else:\n",
    "        loc.append('NULL')\n",
    "        \n",
    "    dates = (soup2.find('time'))\n",
    "    if(dates != None):\n",
    "        date.append(dates.get_text())\n",
    "    else:\n",
    "        date.append('NULL')\n",
    "    phones = soup2.find('div',class_=\"returnemail js-only\")\n",
    "    if phones != None:\n",
    "        found = phones.find('li')\n",
    "        if found != None:\n",
    "            print found\n"
   ]
  },
  {
   "cell_type": "code",
   "execution_count": 10,
   "metadata": {
    "collapsed": false
   },
   "outputs": [
    {
     "ename": "TypeError",
     "evalue": "'module' object is not callable",
     "output_type": "error",
     "traceback": [
      "\u001b[1;31m---------------------------------------------------------------------------\u001b[0m",
      "\u001b[1;31mTypeError\u001b[0m                                 Traceback (most recent call last)",
      "\u001b[1;32m<ipython-input-10-a98386042d74>\u001b[0m in \u001b[0;36m<module>\u001b[1;34m()\u001b[0m\n\u001b[0;32m      7\u001b[0m \u001b[1;33m\u001b[0m\u001b[0m\n\u001b[0;32m      8\u001b[0m \u001b[1;33m\u001b[0m\u001b[0m\n\u001b[1;32m----> 9\u001b[1;33m \u001b[0mbrowser\u001b[0m \u001b[1;33m=\u001b[0m \u001b[0mwebdriver\u001b[0m\u001b[1;33m(\u001b[0m\u001b[1;33m)\u001b[0m\u001b[1;33m\u001b[0m\u001b[0m\n\u001b[0m\u001b[0;32m     10\u001b[0m \u001b[0mbrowser\u001b[0m\u001b[1;33m.\u001b[0m\u001b[0mget\u001b[0m\u001b[1;33m(\u001b[0m\u001b[1;34m'https://seattle.craigslist.org/see/zip/5760219528.html'\u001b[0m\u001b[1;33m)\u001b[0m\u001b[1;33m\u001b[0m\u001b[0m\n\u001b[0;32m     11\u001b[0m \u001b[0mhtml_source\u001b[0m \u001b[1;33m=\u001b[0m \u001b[0mbrowser\u001b[0m\u001b[1;33m.\u001b[0m\u001b[0mpage_source\u001b[0m\u001b[1;33m\u001b[0m\u001b[0m\n",
      "\u001b[1;31mTypeError\u001b[0m: 'module' object is not callable"
     ]
    }
   ],
   "source": [
    "import re\n",
    "\n",
    "\n",
    "\n",
    "\n",
    "\n",
    "\n",
    "\n",
    "\n",
    "numbers = readPage(\"https://seattle.craigslist.org/see/zip/5760219528.html\")\n",
    "print numbers\n",
    "phone = numbers.find_all(href=re.compile(\"sms\"))\n",
    "for each in phone:\n",
    "    print each"
   ]
  },
  {
   "cell_type": "code",
   "execution_count": 5,
   "metadata": {
    "collapsed": false
   },
   "outputs": [],
   "source": [
    "firsthalf= []\n",
    "secondhalf = []\n",
    "for each in date:\n",
    "    if each != 'NULL':\n",
    "        firsthalf.append(each[:10])\n",
    "        secondhalf.append(each[10:])\n",
    "    else:\n",
    "        firsthalf.append('NULL')\n",
    "        secondhalf.append('NULL')\n",
    "table['Link'] = linkn\n",
    "table['Title'] = title\n",
    "table['Loc'] = loc\n",
    "table['Map'] = maps\n",
    "table['Date'] = firsthalf\n",
    "table['Time'] = secondhalf\n",
    "# table['Phone'] = phone\n",
    "table.to_csv(\"FreeStuff.csv\") "
   ]
  },
  {
   "cell_type": "code",
   "execution_count": null,
   "metadata": {
    "collapsed": true
   },
   "outputs": [],
   "source": []
  }
 ],
 "metadata": {
  "anaconda-cloud": {},
  "kernelspec": {
   "display_name": "Python 2",
   "language": "python",
   "name": "python2"
  },
  "language_info": {
   "codemirror_mode": {
    "name": "ipython",
    "version": 2
   },
   "file_extension": ".py",
   "mimetype": "text/x-python",
   "name": "python",
   "nbconvert_exporter": "python",
   "pygments_lexer": "ipython2",
   "version": "2.7.11"
  }
 },
 "nbformat": 4,
 "nbformat_minor": 0
}
